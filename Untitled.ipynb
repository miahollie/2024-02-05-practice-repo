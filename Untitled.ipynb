{
 "cells": [
  {
   "cell_type": "code",
   "execution_count": 1,
   "id": "e8f7635b",
   "metadata": {},
   "outputs": [],
   "source": [
    "chicago_yearly = 762\n",
    "los_angeles_yearly = 294\n",
    "new_york_yearly = 334\n",
    "san_jose_yearly = 47"
   ]
  },
  {
   "cell_type": "code",
   "execution_count": 2,
   "id": "d2e3599e",
   "metadata": {},
   "outputs": [],
   "source": [
    "chicago_pop = 2705000\n",
    "los_angeles_pop = 3976000\n",
    "new_york_pop = 8538000\n",
    "san_jose_pop = 1025000"
   ]
  },
  {
   "cell_type": "code",
   "execution_count": 7,
   "id": "5115a6c1",
   "metadata": {},
   "outputs": [],
   "source": [
    "chicago_rate = (chicago_yearly/chicago_pop)*100000"
   ]
  },
  {
   "cell_type": "code",
   "execution_count": 14,
   "id": "c3016c07",
   "metadata": {},
   "outputs": [
    {
     "data": {
      "text/plain": [
       "28.170055452865068"
      ]
     },
     "execution_count": 14,
     "metadata": {},
     "output_type": "execute_result"
    }
   ],
   "source": [
    "chicago_rate"
   ]
  },
  {
   "cell_type": "code",
   "execution_count": 8,
   "id": "1ebef246",
   "metadata": {},
   "outputs": [],
   "source": [
    "los_angeles_rate = (los_angeles_yearly/los_angeles_pop)*100000"
   ]
  },
  {
   "cell_type": "code",
   "execution_count": 15,
   "id": "ff3e8632",
   "metadata": {},
   "outputs": [
    {
     "data": {
      "text/plain": [
       "7.394366197183098"
      ]
     },
     "execution_count": 15,
     "metadata": {},
     "output_type": "execute_result"
    }
   ],
   "source": [
    "los_angeles_rate"
   ]
  },
  {
   "cell_type": "code",
   "execution_count": 9,
   "id": "f77cb102",
   "metadata": {},
   "outputs": [],
   "source": [
    "new_york_rate = (new_york_yearly/new_york_pop)*100000"
   ]
  },
  {
   "cell_type": "code",
   "execution_count": 10,
   "id": "dd569182",
   "metadata": {},
   "outputs": [],
   "source": [
    "san_jose_rate = (san_jose_yearly/san_jose_pop)*100000"
   ]
  },
  {
   "cell_type": "code",
   "execution_count": 17,
   "id": "e99c3983",
   "metadata": {},
   "outputs": [
    {
     "name": "stdout",
     "output_type": "stream",
     "text": [
      "Chicago has a murder rate of 28.170055452865068 per 100K people, though Los Angeles has a rate of 7.394366197183098 per 100K\n"
     ]
    }
   ],
   "source": [
    "print(f\"Chicago has a murder rate of {chicago_rate} per 100K people, though Los Angeles has a rate of {los_angeles_rate} per 100K\")"
   ]
  },
  {
   "cell_type": "code",
   "execution_count": 18,
   "id": "7174709e",
   "metadata": {},
   "outputs": [
    {
     "name": "stdout",
     "output_type": "stream",
     "text": [
      "New York City has a murder rate of 3.911923167018037 per 100K and San Jose has a murder rate of 4.585365853658536 per 100K\n"
     ]
    }
   ],
   "source": [
    "print(f\"New York City has a murder rate of {new_york_rate} per 100K and San Jose has a murder rate of {san_jose_rate} per 100K\")"
   ]
  },
  {
   "cell_type": "code",
   "execution_count": null,
   "id": "68ba2909",
   "metadata": {},
   "outputs": [],
   "source": []
  }
 ],
 "metadata": {
  "kernelspec": {
   "display_name": "Python 3 (ipykernel)",
   "language": "python",
   "name": "python3"
  },
  "language_info": {
   "codemirror_mode": {
    "name": "ipython",
    "version": 3
   },
   "file_extension": ".py",
   "mimetype": "text/x-python",
   "name": "python",
   "nbconvert_exporter": "python",
   "pygments_lexer": "ipython3",
   "version": "3.11.5"
  }
 },
 "nbformat": 4,
 "nbformat_minor": 5
}
